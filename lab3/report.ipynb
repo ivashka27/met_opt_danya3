{
 "cells": [
  {
   "cell_type": "code",
   "execution_count": 1,
   "metadata": {
    "collapsed": true
   },
   "outputs": [],
   "source": [
    "import numpy as np\n",
    "from lab1.plot import plotter\n",
    "from lab2 import methods as lab2\n",
    "import methods"
   ]
  },
  {
   "cell_type": "code",
   "execution_count": 2,
   "metadata": {},
   "outputs": [],
   "source": [
    "np.random.seed(12)\n",
    "\n",
    "\n",
    "def generate_points(n, dim, f):\n",
    "    X = np.random.rand(n, dim)\n",
    "    y = []\n",
    "    X_err = X + 0.2 * np.random.randn(n, dim)\n",
    "    for x in X_err:\n",
    "        y.append(f(x))\n",
    "    return X, np.asarray(y)\n",
    "\n",
    "\n",
    "def mse(X, y, w):\n",
    "    res = 0\n",
    "    for i in range(0, len(y)):\n",
    "        x = 0\n",
    "        for j in range(0, len(X[i])):\n",
    "            x += X[i][j] * w[j]\n",
    "        res += np.square(y[i] - x)\n",
    "    return res / len(y)\n",
    "\n",
    "\n",
    "def mse_func(X, y):\n",
    "    return lambda w: mse(X, y, w)\n",
    "\n",
    "\n",
    "def grad_calculator(x, func, n):\n",
    "    h = 1e-5\n",
    "    res = []\n",
    "    for i in range(n):\n",
    "        delta = np.zeros(n)\n",
    "        delta[i] = h\n",
    "        res.append((func(x + delta) - func(x - delta)) / (2 * h))\n",
    "    return np.asarray(res)\n",
    "\n",
    "\n",
    "def grad_func(f, n):\n",
    "    return lambda x: grad_calculator(x, f, n)"
   ]
  },
  {
   "cell_type": "code",
   "execution_count": 3,
   "outputs": [],
   "source": [
    "def target_func(x):\n",
    "    return 5 * x[0] + 2 * x[1]\n",
    "\n",
    "def gauss_func(p):\n",
    "    return lambda x: p[0] * x[0] + p[1] * x[1]\n",
    "\n",
    "n = 1000\n",
    "dim = 2\n",
    "(X, y) = generate_points(n, dim, target_func)\n",
    "f = mse_func(X, y)\n",
    "grad = grad_func(f, dim)"
   ],
   "metadata": {
    "collapsed": false
   }
  },
  {
   "cell_type": "code",
   "execution_count": 4,
   "metadata": {},
   "outputs": [],
   "source": [
    "def print_info(name, start, points, grad_calc, func_calc):\n",
    "    print(\"start:\", start)\n",
    "    print(\"{}:\".format(name))\n",
    "    print(points[-1], f(points[-1]))\n",
    "    print(\"gradient calculations:\", grad_calc)\n",
    "    print(\"function calculations:\", func_calc)\n",
    "\n",
    "\n",
    "def plot_from_start(start):\n",
    "    lr = lambda x: 2\n",
    "\n",
    "   # (points1, grad_calc1, func_calc1) = lab2.sgd_with_momentum(f, grad, start, learning_rate=lr)\n",
    "   # print_info(\"Momentum\", start, points1, grad_calc1, func_calc1)\n",
    "\n",
    "   # (points2, grad_calc2, func_calc2) = lab2.sgd_nesterov(f, grad, start, learning_rate=lr)\n",
    "   # print_info(\"Nesterov\", start, points2, grad_calc2, func_calc2)\n",
    "\n",
    "    #(points3, grad_calc3, func_calc3) = lab2.sgd_adagrad(f, grad, start, learning_rate=lr)\n",
    "    #print_info(\"AdaGrad\", start, points3, grad_calc3, func_calc3)\n",
    "\n",
    "    #(points4, grad_calc4, func_calc4) = lab2.sgd_rmsprop(f, grad, start, learning_rate=lr)\n",
    "    #print_info(\"RMSProp\", start, points4, grad_calc4, func_calc4)\n",
    "\n",
    "    #(points5, grad_calc5, func_calc5) = lab2.sgd_adam(f, grad, start, learning_rate=lr)\n",
    "    #print_info(\"Adam\", start, points5, grad_calc5, func_calc5)\n",
    "\n",
    "    #(points6, grad_calc6, func_calc6) = methods.bfgs(f, grad, start)\n",
    "    #print_info(\"BFGS\", start, points6, grad_calc6, func_calc6)\n",
    "\n",
    "    #(points7, grad_calc7, func_calc7) = methods.l_bfgs(f, grad, start)\n",
    "   # print_info(\"L-BFGS\", start, points7, grad_calc7, func_calc7)\n",
    "\n",
    "    (points8, grad_calc8, func_calc8) = methods.gauss_newton(gauss_func, methods.jacobian, X, y, start)\n",
    "    print_info(\"Gauss-Newton\", start, points8, grad_calc8, func_calc8)\n",
    "\n",
    "    #plotter.multiple_points_over_contour(f, points1, points2, name1=\"Momentum\", name2=\"Nesterov\").show()\n",
    "\n",
    "   # plotter.multiple_points_over_contour(f, points4, points3, name1=\"RMSProp\", name2=\"AdaGrad\",).show()\n",
    "\n",
    "   # plotter.multiple_points_over_contour(f, points5, name1=\"Adam\").show()\n",
    "\n",
    "   # plotter.multiple_points_over_contour(f, points6, name1=\"BFGS\").show()\n",
    "\n",
    "   # plotter.multiple_points_over_contour(f, points7, name1=\"L-BFGS\").show()\n",
    "\n",
    "    plotter.multiple_points_over_contour(f, points8, name1=\"Gauss-Newton\").show()"
   ]
  },
  {
   "cell_type": "code",
   "execution_count": 5,
   "outputs": [
    {
     "name": "stdout",
     "output_type": "stream",
     "text": [
      "len(x): 1000\n"
     ]
    },
    {
     "ename": "IndexError",
     "evalue": "index 2 is out of bounds for axis 0 with size 2",
     "output_type": "error",
     "traceback": [
      "\u001B[1;31m---------------------------------------------------------------------------\u001B[0m",
      "\u001B[1;31mIndexError\u001B[0m                                Traceback (most recent call last)",
      "Cell \u001B[1;32mIn[5], line 1\u001B[0m\n\u001B[1;32m----> 1\u001B[0m \u001B[43mplot_from_start\u001B[49m\u001B[43m(\u001B[49m\u001B[43m[\u001B[49m\u001B[38;5;241;43m0\u001B[39;49m\u001B[43m,\u001B[49m\u001B[43m \u001B[49m\u001B[38;5;241;43m0\u001B[39;49m\u001B[43m]\u001B[49m\u001B[43m)\u001B[49m\n",
      "Cell \u001B[1;32mIn[4], line 33\u001B[0m, in \u001B[0;36mplot_from_start\u001B[1;34m(start)\u001B[0m\n\u001B[0;32m     10\u001B[0m  lr \u001B[38;5;241m=\u001B[39m \u001B[38;5;28;01mlambda\u001B[39;00m x: \u001B[38;5;241m2\u001B[39m\n\u001B[0;32m     12\u001B[0m \u001B[38;5;66;03m# (points1, grad_calc1, func_calc1) = lab2.sgd_with_momentum(f, grad, start, learning_rate=lr)\u001B[39;00m\n\u001B[0;32m     13\u001B[0m \u001B[38;5;66;03m# print_info(\"Momentum\", start, points1, grad_calc1, func_calc1)\u001B[39;00m\n\u001B[0;32m     14\u001B[0m \n\u001B[1;32m   (...)\u001B[0m\n\u001B[0;32m     30\u001B[0m  \u001B[38;5;66;03m#(points7, grad_calc7, func_calc7) = methods.l_bfgs(f, grad, start)\u001B[39;00m\n\u001B[0;32m     31\u001B[0m \u001B[38;5;66;03m# print_info(\"L-BFGS\", start, points7, grad_calc7, func_calc7)\u001B[39;00m\n\u001B[1;32m---> 33\u001B[0m  (points8, grad_calc8, func_calc8) \u001B[38;5;241m=\u001B[39m \u001B[43mmethods\u001B[49m\u001B[38;5;241;43m.\u001B[39;49m\u001B[43mgauss_newton\u001B[49m\u001B[43m(\u001B[49m\u001B[43mgauss_func\u001B[49m\u001B[43m,\u001B[49m\u001B[43m \u001B[49m\u001B[43mmethods\u001B[49m\u001B[38;5;241;43m.\u001B[39;49m\u001B[43mjacobian\u001B[49m\u001B[43m,\u001B[49m\u001B[43m \u001B[49m\u001B[43mX\u001B[49m\u001B[43m,\u001B[49m\u001B[43m \u001B[49m\u001B[43my\u001B[49m\u001B[43m,\u001B[49m\u001B[43m \u001B[49m\u001B[43mstart\u001B[49m\u001B[43m)\u001B[49m\n\u001B[0;32m     34\u001B[0m  print_info(\u001B[38;5;124m\"\u001B[39m\u001B[38;5;124mGauss-Newton\u001B[39m\u001B[38;5;124m\"\u001B[39m, start, points8, grad_calc8, func_calc8)\n\u001B[0;32m     36\u001B[0m  \u001B[38;5;66;03m#plotter.multiple_points_over_contour(f, points1, points2, name1=\"Momentum\", name2=\"Nesterov\").show()\u001B[39;00m\n\u001B[0;32m     37\u001B[0m \n\u001B[0;32m     38\u001B[0m \u001B[38;5;66;03m# plotter.multiple_points_over_contour(f, points4, points3, name1=\"RMSProp\", name2=\"AdaGrad\",).show()\u001B[39;00m\n\u001B[1;32m   (...)\u001B[0m\n\u001B[0;32m     43\u001B[0m \n\u001B[0;32m     44\u001B[0m \u001B[38;5;66;03m# plotter.multiple_points_over_contour(f, points7, name1=\"L-BFGS\").show()\u001B[39;00m\n",
      "File \u001B[1;32mC:\\GitProjects\\met_opt\\lab3\\methods.py:28\u001B[0m, in \u001B[0;36mgauss_newton\u001B[1;34m(f, jac, x, y, p0, eps, max_iter)\u001B[0m\n\u001B[0;32m     26\u001B[0m points \u001B[38;5;241m=\u001B[39m [np\u001B[38;5;241m.\u001B[39masarray(p)]\n\u001B[0;32m     27\u001B[0m \u001B[38;5;28;01mfor\u001B[39;00m itr \u001B[38;5;129;01min\u001B[39;00m \u001B[38;5;28mrange\u001B[39m(max_iter):\n\u001B[1;32m---> 28\u001B[0m     J \u001B[38;5;241m=\u001B[39m \u001B[43mjac\u001B[49m\u001B[43m(\u001B[49m\u001B[43mf\u001B[49m\u001B[43m(\u001B[49m\u001B[43mp\u001B[49m\u001B[43m)\u001B[49m\u001B[43m,\u001B[49m\u001B[43m \u001B[49m\u001B[43mx\u001B[49m\u001B[43m)\u001B[49m\n\u001B[0;32m     29\u001B[0m     jac_calc \u001B[38;5;241m+\u001B[39m\u001B[38;5;241m=\u001B[39m \u001B[38;5;241m1\u001B[39m\n\u001B[0;32m     30\u001B[0m     dy \u001B[38;5;241m=\u001B[39m y \u001B[38;5;241m-\u001B[39m f(p)(x)\n",
      "File \u001B[1;32mC:\\GitProjects\\met_opt\\lab3\\methods.py:13\u001B[0m, in \u001B[0;36mjacobian\u001B[1;34m(function, x)\u001B[0m\n\u001B[0;32m     11\u001B[0m \u001B[38;5;28;01mfor\u001B[39;00m i \u001B[38;5;129;01min\u001B[39;00m \u001B[38;5;28mrange\u001B[39m(n):\n\u001B[0;32m     12\u001B[0m     x_plus \u001B[38;5;241m=\u001B[39m np\u001B[38;5;241m.\u001B[39mcopy(x[i])\n\u001B[1;32m---> 13\u001B[0m     x_plus[i] \u001B[38;5;241m+\u001B[39m\u001B[38;5;241m=\u001B[39m eps\n\u001B[0;32m     14\u001B[0m     y_plus \u001B[38;5;241m=\u001B[39m function(x_plus)\n\u001B[0;32m     15\u001B[0m     x_minus \u001B[38;5;241m=\u001B[39m np\u001B[38;5;241m.\u001B[39mcopy(x[i])\n",
      "\u001B[1;31mIndexError\u001B[0m: index 2 is out of bounds for axis 0 with size 2"
     ]
    }
   ],
   "source": [
    "plot_from_start([0, 0])"
   ],
   "metadata": {
    "collapsed": false
   }
  },
  {
   "cell_type": "code",
   "execution_count": null,
   "outputs": [],
   "source": [
    "plot_from_start([-1, 2])"
   ],
   "metadata": {
    "collapsed": false
   }
  },
  {
   "cell_type": "code",
   "execution_count": null,
   "outputs": [],
   "source": [
    "plot_from_start([-0.5, -1])"
   ],
   "metadata": {
    "collapsed": false
   }
  },
  {
   "cell_type": "code",
   "execution_count": null,
   "outputs": [],
   "source": [
    "plot_from_start([-0.5, 0])"
   ],
   "metadata": {
    "collapsed": false
   }
  },
  {
   "cell_type": "code",
   "execution_count": null,
   "outputs": [],
   "source": [
    "plot_from_start([2, 3])"
   ],
   "metadata": {
    "collapsed": false
   }
  },
  {
   "cell_type": "code",
   "execution_count": null,
   "outputs": [],
   "source": [
    "plot_from_start([-10, 0])"
   ],
   "metadata": {
    "collapsed": false
   }
  },
  {
   "cell_type": "code",
   "execution_count": null,
   "outputs": [],
   "source": [
    "plot_from_start([0.9504983984550248, -0.766835117539493])"
   ],
   "metadata": {
    "collapsed": false
   }
  },
  {
   "cell_type": "code",
   "execution_count": null,
   "outputs": [],
   "source": [
    "#generate 4 dots\n",
    "dots = plotter.generate_n_dots(4)"
   ],
   "metadata": {
    "collapsed": false
   }
  },
  {
   "cell_type": "code",
   "execution_count": null,
   "outputs": [],
   "source": [
    "for i in dots:\n",
    "    plot_from_start(i)\n"
   ],
   "metadata": {
    "collapsed": false
   }
  },
  {
   "cell_type": "code",
   "execution_count": null,
   "outputs": [],
   "source": [],
   "metadata": {
    "collapsed": false
   }
  }
 ],
 "metadata": {
  "kernelspec": {
   "display_name": "Python 3 (ipykernel)",
   "language": "python",
   "name": "python3"
  },
  "language_info": {
   "codemirror_mode": {
    "name": "ipython",
    "version": 3
   },
   "file_extension": ".py",
   "mimetype": "text/x-python",
   "name": "python",
   "nbconvert_exporter": "python",
   "pygments_lexer": "ipython3",
   "version": "3.10.5"
  }
 },
 "nbformat": 4,
 "nbformat_minor": 1
}
