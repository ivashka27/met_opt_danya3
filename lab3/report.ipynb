{
 "cells": [
  {
   "cell_type": "code",
   "execution_count": 1,
   "metadata": {
    "collapsed": true
   },
   "outputs": [
    {
     "ename": "ModuleNotFoundError",
     "evalue": "No module named 'lab1'",
     "output_type": "error",
     "traceback": [
      "\u001B[0;31m---------------------------------------------------------------------------\u001B[0m",
      "\u001B[0;31mModuleNotFoundError\u001B[0m                       Traceback (most recent call last)",
      "Cell \u001B[0;32mIn [1], line 4\u001B[0m\n\u001B[1;32m      1\u001B[0m \u001B[38;5;28;01mimport\u001B[39;00m \u001B[38;5;21;01mmatplotlib\u001B[39;00m\u001B[38;5;21;01m.\u001B[39;00m\u001B[38;5;21;01mpyplot\u001B[39;00m \u001B[38;5;28;01mas\u001B[39;00m \u001B[38;5;21;01mplt\u001B[39;00m\n\u001B[1;32m      2\u001B[0m \u001B[38;5;28;01mimport\u001B[39;00m \u001B[38;5;21;01mnumpy\u001B[39;00m \u001B[38;5;28;01mas\u001B[39;00m \u001B[38;5;21;01mnp\u001B[39;00m\n\u001B[0;32m----> 4\u001B[0m \u001B[38;5;28;01mimport\u001B[39;00m \u001B[38;5;21;01mmethods\u001B[39;00m\n\u001B[1;32m      5\u001B[0m \u001B[38;5;28;01mimport\u001B[39;00m \u001B[38;5;21;01mlab2\u001B[39;00m\u001B[38;5;21;01m.\u001B[39;00m\u001B[38;5;21;01mmethods\u001B[39;00m \u001B[38;5;28;01mas\u001B[39;00m \u001B[38;5;21;01mmethods2\u001B[39;00m\n",
      "File \u001B[0;32m~/Documents/itmo/met_opt/lab3/methods.py:5\u001B[0m\n\u001B[1;32m      3\u001B[0m \u001B[38;5;28;01mimport\u001B[39;00m \u001B[38;5;21;01mnumpy\u001B[39;00m \u001B[38;5;28;01mas\u001B[39;00m \u001B[38;5;21;01mnp\u001B[39;00m\n\u001B[1;32m      4\u001B[0m \u001B[38;5;28;01mfrom\u001B[39;00m \u001B[38;5;21;01mmath\u001B[39;00m \u001B[38;5;28;01mimport\u001B[39;00m sqrt\n\u001B[0;32m----> 5\u001B[0m \u001B[38;5;28;01mfrom\u001B[39;00m \u001B[38;5;21;01mlab1\u001B[39;00m\u001B[38;5;21;01m.\u001B[39;00m\u001B[38;5;21;01mmethod\u001B[39;00m \u001B[38;5;28;01mimport\u001B[39;00m wolfe_gradient\n\u001B[1;32m      8\u001B[0m \u001B[38;5;28;01mdef\u001B[39;00m \u001B[38;5;21mjacobian\u001B[39m(function, x):\n\u001B[1;32m      9\u001B[0m     n \u001B[38;5;241m=\u001B[39m \u001B[38;5;28mlen\u001B[39m(x)\n",
      "\u001B[0;31mModuleNotFoundError\u001B[0m: No module named 'lab1'"
     ]
    }
   ],
   "source": [
    "import matplotlib.pyplot as plt\n",
    "import numpy as np\n",
    "\n",
    "import methods\n",
    "import lab2.methods as methods2"
   ]
  },
  {
   "cell_type": "code",
   "execution_count": null,
   "outputs": [],
   "source": [
    "from scipy.optimize import approx_fprime\n",
    "import math\n",
    "\n",
    "np.random.seed(12)\n",
    "\n",
    "\n",
    "def generate_points(n, f, rg=1):\n",
    "    X = rg * np.random.rand(n)\n",
    "    y = []\n",
    "    X_err = X + 0.2 * np.random.randn(n)\n",
    "    for x in X_err:\n",
    "        y.append(f(x))\n",
    "    return X, np.asarray(y)\n",
    "\n",
    "\n",
    "def mse(f, w, X, y):\n",
    "    diff = 0\n",
    "    for i in range(0, len(X)):\n",
    "        diff += (f(w)(X[i]) - y[i]) ** 2\n",
    "    return diff\n",
    "\n",
    "\n",
    "def mse_func(f, X, y):\n",
    "    return lambda w: mse(f, w, X, y)\n",
    "\n",
    "\n",
    "def grad_calculator(x, func, dim):\n",
    "    h = 1e-5\n",
    "    res = []\n",
    "    for i in range(dim):\n",
    "        delta = np.zeros(dim)\n",
    "        delta[i] = h\n",
    "        res.append((func(x + delta) - func(x - delta)) / (2 * h))\n",
    "    return np.asarray(res)"
   ],
   "metadata": {
    "collapsed": false
   }
  },
  {
   "cell_type": "code",
   "execution_count": null,
   "outputs": [],
   "source": [
    "def grad_func(f, dim):\n",
    "    return lambda x: grad_calculator(x, f, dim)\n",
    "\n",
    "\n",
    "def func(p):\n",
    "    return lambda x: p[0] + p[1] * math.sin(3 * x) / x + p[2] * x\n",
    "\n",
    "\n",
    "def target_func(x):\n",
    "    return func([1, 1, 0.1])(x)\n",
    "\n",
    "\n",
    "n = 10\n",
    "dim = 3\n",
    "rg = 10\n",
    "(X, y) = generate_points(n, target_func, rg)\n",
    "f = mse_func(func, X, y)\n",
    "grad = grad_func(f, dim)\n",
    "hess = lambda x0: approx_fprime(x0, lambda t: approx_fprime(t, f))\n",
    "\n",
    "lr = lambda x: 1\n",
    "start = np.zeros(dim)"
   ],
   "metadata": {
    "collapsed": false
   }
  },
  {
   "cell_type": "code",
   "execution_count": null,
   "outputs": [],
   "source": [
    "def make_plot(w1=None, name1=None, w2=None, name2=None, w3=None, name3=None, w4=None, name4=None, w5=None, name5=None):\n",
    "    fig, ax = plt.subplots()\n",
    "    plt.plot(X, y, 'b.')\n",
    "    ls = []\n",
    "    names = []\n",
    "    t1 = np.arange(0.0, rg + 0.01, 0.1)\n",
    "    if not w1 is None:\n",
    "        Y = []\n",
    "        for x in t1:\n",
    "            Y.append(func(w1)(x))\n",
    "        l1, = plt.plot(t1, Y, '-', color='r', linewidth=1, alpha=0.8)\n",
    "        ls.append(l1)\n",
    "        names.append(name1)\n",
    "    if not w2 is None:\n",
    "        Y = []\n",
    "        for x in t1:\n",
    "            Y.append(func(w2)(x))\n",
    "        l2, = plt.plot(t1, Y, '-', color='y', linewidth=1, alpha=0.8)\n",
    "        ls.append(l2)\n",
    "        names.append(name2)\n",
    "    if not w3 is None:\n",
    "        Y = []\n",
    "        for x in t1:\n",
    "            Y.append(func(w3)(x))\n",
    "        l3, = plt.plot(t1, Y, '-', color='g', linewidth=1, alpha=0.8)\n",
    "        ls.append(l3)\n",
    "        names.append(name3)\n",
    "    if not w4 is None:\n",
    "        Y = []\n",
    "        for x in t1:\n",
    "            Y.append(func(w4)(x))\n",
    "        l4, = plt.plot(t1, Y, '-', color='orange', linewidth=1, alpha=0.8)\n",
    "        ls.append(l4)\n",
    "        names.append(name4)\n",
    "    if not w5 is None:\n",
    "        Y = []\n",
    "        for x in t1:\n",
    "            Y.append(func(w5)(x))\n",
    "        l5, = plt.plot(t1, Y, '-', color='pink', linewidth=1, alpha=0.8)\n",
    "        ls.append(l5)\n",
    "        names.append(name5)\n",
    "    ax.legend(ls, names, loc='upper right', shadow=True)\n",
    "    plt.xlabel('x')\n",
    "    plt.ylabel('y')\n",
    "    plt.show()"
   ],
   "metadata": {
    "collapsed": false
   }
  },
  {
   "cell_type": "code",
   "execution_count": null,
   "outputs": [],
   "source": [
    "def print_table(infos):\n",
    "    for info in infos:\n",
    "        print(\"\\hline\")\n",
    "        print(\"{} & {} & {} \\\\\".format(info[0][0], info[1], info[2]))"
   ],
   "metadata": {
    "collapsed": false
   }
  },
  {
   "cell_type": "code",
   "execution_count": null,
   "outputs": [],
   "source": [
    "infos = []\n",
    "\n",
    "infos.append(methods.bfgs(f, grad, start))\n",
    "w1 = infos[-1][0][-1]\n",
    "\n",
    "infos.append(methods2.sgd_adam(f, grad, start))\n",
    "w2 = infos[-1][0][-1]\n",
    "\n",
    "infos.append(methods2.sgd_rmsprop(f, grad, start))\n",
    "w3 = infos[-1][0][-1]\n",
    "\n",
    "infos.append(methods.trust_region_dogleg(f, grad, hess, start))\n",
    "w4 = infos[-1][0][-1]\n",
    "\n",
    "def gauss_f(p):\n",
    "    return [func(p)(x_i) for x_i in X]\n",
    "\n",
    "def jacobian(p):\n",
    "    n = len(X)\n",
    "    m = len(p)\n",
    "    h = 0.001\n",
    "    J = np.zeros((n, m))\n",
    "\n",
    "    for i in range(n):\n",
    "        for j in range(m):\n",
    "            p_minus = p.copy()\n",
    "            p_plus = p.copy()\n",
    "            p_minus[j] -= h\n",
    "            p_plus[j] += h\n",
    "            J[i, j] = (func(p_plus)(X[i]) - func(p_minus)(X[i])) / (2 * h)\n",
    "    return J\n",
    "\n",
    "infos.append(methods.gauss_newton(gauss_f, jacobian, X, y, start))\n",
    "w5 = infos[-1][0][-1]\n",
    "\n",
    "infos.append(methods.gauss_newton(func, grad_func(func, dim), X, y, start))\n",
    "print_table(infos)\n",
    "make_plot(w1, \"bfgs\", w2, \"adam\", w3, \"rmsprop\", w4, \"dogleg\")"
   ],
   "metadata": {
    "collapsed": false
   }
  },
  {
   "cell_type": "code",
   "execution_count": null,
   "outputs": [],
   "source": [],
   "metadata": {
    "collapsed": false
   }
  }
 ],
 "metadata": {
  "kernelspec": {
   "display_name": "Python 3",
   "language": "python",
   "name": "python3"
  },
  "language_info": {
   "codemirror_mode": {
    "name": "ipython",
    "version": 2
   },
   "file_extension": ".py",
   "mimetype": "text/x-python",
   "name": "python",
   "nbconvert_exporter": "python",
   "pygments_lexer": "ipython2",
   "version": "2.7.6"
  }
 },
 "nbformat": 4,
 "nbformat_minor": 0
}
