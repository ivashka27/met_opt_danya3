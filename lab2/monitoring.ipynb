{
 "cells": [
  {
   "cell_type": "code",
   "execution_count": 1,
   "metadata": {
    "collapsed": true
   },
   "outputs": [],
   "source": [
    "import methods\n",
    "import numpy as np\n",
    "from memory_profiler import memory_usage\n",
    "\n",
    "\n",
    "def f(x):\n",
    "    # return 10 * x[0] ** 2 + x[1] ** 2\n",
    "    return 4 * x[0] ** 2 + 9 * x[1] ** 2 - 4 * x[0] * x[1] - 2 * x[0] + 12 * x[1] + 7\n",
    "\n",
    "\n",
    "def grad(x):\n",
    "    h = 1e-5\n",
    "    return (f(x[:, np.newaxis] + h * np.eye(2)) - f(x[:, np.newaxis] - h * np.eye(2))) / (2 * h)\n",
    "\n",
    "\n",
    "start = [-1, 2]\n",
    "\n",
    "args = (f, grad, start)\n",
    "kwargs = {'learning_rate': lambda epoch: 0.5,\n",
    "          'trajectory': False}\n",
    "\n",
    "\n",
    "def func():\n",
    "    a= 1\n",
    "\n"
   ]
  },
  {
   "cell_type": "code",
   "execution_count": 8,
   "outputs": [
    {
     "name": "stdout",
     "output_type": "stream",
     "text": [
      "[95.015625, 95.015625, 95.015625, 95.015625]\n",
      "Memory used: 95.015625 MB\n"
     ]
    }
   ],
   "source": [
    "memory_used = memory_usage((methods.sgd_nesterov, args, kwargs))\n",
    "# memory_used = memory_usage(func)\n",
    "print(memory_used)\n",
    "print(f\"Memory used: {max(memory_used)} MB\")"
   ],
   "metadata": {
    "collapsed": false
   }
  },
  {
   "cell_type": "markdown",
   "source": [],
   "metadata": {
    "collapsed": false
   }
  },
  {
   "cell_type": "code",
   "execution_count": 26,
   "outputs": [],
   "source": [],
   "metadata": {
    "collapsed": false
   }
  },
  {
   "cell_type": "code",
   "execution_count": null,
   "outputs": [],
   "source": [],
   "metadata": {
    "collapsed": false
   }
  },
  {
   "cell_type": "code",
   "execution_count": 26,
   "outputs": [],
   "source": [],
   "metadata": {
    "collapsed": false
   }
  }
 ],
 "metadata": {
  "kernelspec": {
   "display_name": "Python 3",
   "language": "python",
   "name": "python3"
  },
  "language_info": {
   "codemirror_mode": {
    "name": "ipython",
    "version": 2
   },
   "file_extension": ".py",
   "mimetype": "text/x-python",
   "name": "python",
   "nbconvert_exporter": "python",
   "pygments_lexer": "ipython2",
   "version": "2.7.6"
  }
 },
 "nbformat": 4,
 "nbformat_minor": 0
}
