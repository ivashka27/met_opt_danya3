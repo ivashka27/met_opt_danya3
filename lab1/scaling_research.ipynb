{
 "cells": [
  {
   "cell_type": "code",
   "execution_count": 4,
   "metadata": {
    "collapsed": true
   },
   "outputs": [],
   "source": [
    "import numpy as np\n",
    "import method.gradient_descent as gd\n",
    "import method.dichotomy_gradient as dg\n",
    "import method.wolfe_gradient as wg\n",
    "import method.func_normalization as fn\n",
    "import plot.plotter as plotter\n"
   ]
  },
  {
   "cell_type": "code",
   "execution_count": 5,
   "outputs": [],
   "source": [
    "\n",
    "def f(x):\n",
    "    return 10000 * x[0] ** 2 + x[1] ** 2\n",
    "\n",
    "\n",
    "def grad(func):\n",
    "    h = 1e-5\n",
    "    return lambda x: (func(x[:, np.newaxis] + h * np.eye(2)) - func(x[:, np.newaxis] - h * np.eye(2))) / (2 * h)"
   ],
   "metadata": {
    "collapsed": false
   }
  },
  {
   "cell_type": "code",
   "execution_count": 13,
   "outputs": [],
   "source": [
    "def get_data(start):\n",
    "    lr = 0.05\n",
    "\n",
    "    gradient = [[],[],[]]\n",
    "    dichotomy = [[],[],[]]\n",
    "    wolfe = [[], [],[]]\n",
    "\n",
    "    for s in range(1, 10, 5):\n",
    "        func = fn.func_normalization(f, s)\n",
    "        (points1, grad_calc1, func_calc1) = gd.gradient_descent(f, grad(f), start, 1e-4, lr, 100000)\n",
    "        gradient[0].append([s, grad_calc1])\n",
    "        gradient[1].append([s, func_calc1])\n",
    "        gradient[2].append([s, func(points1[-1])])\n",
    "        (points2, grad_calc2, func_calc2) = dg.dichotomy_gradient(f, grad(f), start, 1e-4, 1e-3, 0.5)\n",
    "        dichotomy[0].append([s, grad_calc2])\n",
    "        dichotomy[1].append([s, func_calc2])\n",
    "        dichotomy[2].append([s, func(points2[-1])])\n",
    "\n",
    "        (points3, grad_calc3, func_calc3) = wg.wolfe_gradient(f, grad(f), start, 1e-4)\n",
    "        wolfe[0].append([s, grad_calc3])\n",
    "        wolfe[1].append([s, func_calc3])\n",
    "        wolfe[2].append([s, func(points3[-1])])\n",
    "\n",
    "    return gradient, dichotomy, wolfe"
   ],
   "metadata": {
    "collapsed": false
   }
  },
  {
   "cell_type": "code",
   "execution_count": 14,
   "outputs": [
    {
     "data": {
      "text/plain": "([[[1, 6], [6, 6]],\n  [[1, 0], [6, 0]],\n  [[1, 1.0007863205162382e+28], [6, 2.779962001433995e+26]]],\n [[[1, 11], [6, 11]],\n  [[1, 160], [6, 160]],\n  [[1, 6.043059999896601e+27], [6, 1.6786277777490556e+26]]],\n [[[1, 10001], [6, 10001]],\n  [[1, 280014], [6, 280014]],\n  [[1, 0.0015434600872449057], [6, 0.00154342786877502]]])"
     },
     "execution_count": 14,
     "metadata": {},
     "output_type": "execute_result"
    }
   ],
   "source": [
    "get_data([1,1])\n"
   ],
   "metadata": {
    "collapsed": false
   }
  },
  {
   "cell_type": "code",
   "execution_count": null,
   "outputs": [],
   "source": [],
   "metadata": {
    "collapsed": false
   }
  }
 ],
 "metadata": {
  "kernelspec": {
   "display_name": "Python 3",
   "language": "python",
   "name": "python3"
  },
  "language_info": {
   "codemirror_mode": {
    "name": "ipython",
    "version": 2
   },
   "file_extension": ".py",
   "mimetype": "text/x-python",
   "name": "python",
   "nbconvert_exporter": "python",
   "pygments_lexer": "ipython2",
   "version": "2.7.6"
  }
 },
 "nbformat": 4,
 "nbformat_minor": 0
}
