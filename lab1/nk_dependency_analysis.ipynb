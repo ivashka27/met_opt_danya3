{
 "cells": [
  {
   "cell_type": "code",
   "execution_count": null,
   "metadata": {
    "collapsed": true
   },
   "outputs": [],
   "source": [
    "import numpy as np\n",
    "import lab1.method.gradient_descent as gd\n",
    "import lab1.method.dichotomy_gradient as dg\n",
    "import lab1.plot.plotter as plotter\n",
    "import lab1.method.func_generation as fg\n",
    "import lab1.method.wolfe_gradient as wg"
   ]
  },
  {
   "cell_type": "code",
   "execution_count": null,
   "outputs": [],
   "source": [
    "def multiply(x, m, n):\n",
    "    v = np.zeros(n, dtype=object)\n",
    "    for i in range(n):\n",
    "        for j in range(n):\n",
    "            v[i] += x[j] * m[j][i]\n",
    "    res = 0\n",
    "    for i in range(n):\n",
    "        res += v[i] * x[i]\n",
    "    return res\n",
    "\n",
    "\n",
    "def f(n):\n",
    "    return lambda x: np.matmul(np.matmul(x, matrix), x.T)\n",
    "\n",
    "\n",
    "def grad_calculator(x, func, n):\n",
    "    h = 1e-5\n",
    "    res = []\n",
    "    for i in range(n):\n",
    "        delta = np.zeros(n)\n",
    "        delta[i] = h\n",
    "        res.append((func(x + delta) - func(x - delta)) / (2 * h))\n",
    "    return np.asarray(res)\n",
    "\n",
    "def grad(func, n):\n",
    "    return lambda x : grad_calculator(x, func, n)\n",
    "    #h = 1e-5\n",
    "    #return lambda x: (func(x[:, np.newaxis] + h * np.eye(n)) - func(x[:, np.newaxis] - h * np.eye(n))) / (2 * h)"
   ],
   "metadata": {
    "collapsed": false
   }
  },
  {
   "cell_type": "code",
   "execution_count": null,
   "outputs": [
    {
     "name": "stdout",
     "output_type": "stream",
     "text": [
      "n: 160, k: 60\n",
      "ne wolfe: 0.0019578560259273983\n",
      "l = 188\n",
      "n: 160, k: 110\n",
      "ne wolfe: 0.001078667145608203\n",
      "l = 98\n"
     ]
    },
    {
     "ename": "KeyboardInterrupt",
     "evalue": "",
     "output_type": "error",
     "traceback": [
      "\u001B[1;31m---------------------------------------------------------------------------\u001B[0m",
      "\u001B[1;31mKeyboardInterrupt\u001B[0m                         Traceback (most recent call last)",
      "Cell \u001B[1;32mIn[5], line 9\u001B[0m\n\u001B[0;32m      7\u001B[0m \u001B[38;5;28;01mfor\u001B[39;00m k \u001B[38;5;129;01min\u001B[39;00m \u001B[38;5;28mrange\u001B[39m(\u001B[38;5;241m10\u001B[39m, \u001B[38;5;241m1000\u001B[39m, \u001B[38;5;241m50\u001B[39m):\n\u001B[0;32m      8\u001B[0m     matrix \u001B[38;5;241m=\u001B[39m fg\u001B[38;5;241m.\u001B[39mgenerate_func(n, k)\n\u001B[1;32m----> 9\u001B[0m     points1, l, _ \u001B[38;5;241m=\u001B[39m \u001B[43mgd\u001B[49m\u001B[38;5;241;43m.\u001B[39;49m\u001B[43mgradient_descent\u001B[49m\u001B[43m(\u001B[49m\u001B[43mf\u001B[49m\u001B[43m(\u001B[49m\u001B[43mn\u001B[49m\u001B[43m)\u001B[49m\u001B[43m,\u001B[49m\u001B[43m \u001B[49m\u001B[43mgrad\u001B[49m\u001B[43m(\u001B[49m\u001B[43mf\u001B[49m\u001B[43m(\u001B[49m\u001B[43mn\u001B[49m\u001B[43m)\u001B[49m\u001B[43m,\u001B[49m\u001B[43m \u001B[49m\u001B[43mn\u001B[49m\u001B[43m)\u001B[49m\u001B[43m,\u001B[49m\u001B[43m \u001B[49m\u001B[43mstart\u001B[49m\u001B[43m,\u001B[49m\u001B[43m \u001B[49m\u001B[38;5;241;43m1e-1\u001B[39;49m\u001B[43m,\u001B[49m\u001B[43m \u001B[49m\u001B[38;5;241;43m0.005\u001B[39;49m\u001B[43m)\u001B[49m\n\u001B[0;32m     10\u001B[0m     \u001B[38;5;66;03m#points2, _, _ = wg.wolfe_gradient(f, grad, start, 1e-4, alpha=0.5)\u001B[39;00m\n\u001B[0;32m     11\u001B[0m     \u001B[38;5;28mprint\u001B[39m(\u001B[38;5;124m\"\u001B[39m\u001B[38;5;124mn: \u001B[39m\u001B[38;5;132;01m{}\u001B[39;00m\u001B[38;5;124m, k: \u001B[39m\u001B[38;5;132;01m{}\u001B[39;00m\u001B[38;5;124m\"\u001B[39m\u001B[38;5;241m.\u001B[39mformat(n, k))\n",
      "File \u001B[1;32mC:\\GitProjects\\met_opt\\lab1\\method\\gradient_descent.py:14\u001B[0m, in \u001B[0;36mgradient_descent\u001B[1;34m(f, grad, start, eps, lr, max_iter)\u001B[0m\n\u001B[0;32m     12\u001B[0m     \u001B[38;5;28;01mif\u001B[39;00m np\u001B[38;5;241m.\u001B[39mlinalg\u001B[38;5;241m.\u001B[39mnorm(gr) \u001B[38;5;241m<\u001B[39m eps:\n\u001B[0;32m     13\u001B[0m         \u001B[38;5;28;01mbreak\u001B[39;00m\n\u001B[1;32m---> 14\u001B[0m \u001B[38;5;28;01mreturn\u001B[39;00m \u001B[43mnp\u001B[49m\u001B[38;5;241;43m.\u001B[39;49m\u001B[43masarray\u001B[49m\u001B[43m(\u001B[49m\u001B[43mpoints\u001B[49m\u001B[43m)\u001B[49m, \u001B[38;5;28mlen\u001B[39m(points), \u001B[38;5;241m0\u001B[39m\n",
      "\u001B[1;31mKeyboardInterrupt\u001B[0m: "
     ]
    }
   ],
   "source": [
    "dependency = []\n",
    "x = []\n",
    "y = []\n",
    "z = []\n",
    "for n in range(10, 1000, 50):\n",
    "    start = np.ones(n)  #np.random.rand(1, n)[0]\n",
    "    for k in range(10, 1000, 50):\n",
    "        matrix = fg.generate_func(n, k)\n",
    "        points1, l, _ = gd.gradient_descent(f(n), grad(f(n), n), start, 1e-2, 0.001)\n",
    "        #points2, _, _ = wg.wolfe_gradient(f, grad, start, 1e-4, alpha=0.5)\n",
    "        print(\"n: {}, k: {}\".format(n, k))\n",
    "        print(\"ne wolfe:\", f(n)(points1[-1]))\n",
    "        #print(\"wolfe:\", f(points2[-1]))\n",
    "        x.append(n)\n",
    "        y.append(k)\n",
    "        z.append(l)\n",
    "        print(\"l = \" + str(l))\n",
    "plotter.plot_by_three_coordinates(y, x, z)"
   ],
   "metadata": {
    "collapsed": false
   }
  },
  {
   "cell_type": "code",
   "execution_count": null,
   "outputs": [],
   "source": [],
   "metadata": {
    "collapsed": false,
    "pycharm": {
     "name": "#%%\n"
    }
   }
  }
 ],
 "metadata": {
  "kernelspec": {
   "display_name": "Python 3",
   "language": "python",
   "name": "python3"
  },
  "language_info": {
   "codemirror_mode": {
    "name": "ipython",
    "version": 2
   },
   "file_extension": ".py",
   "mimetype": "text/x-python",
   "name": "python",
   "nbconvert_exporter": "python",
   "pygments_lexer": "ipython2",
   "version": "2.7.6"
  }
 },
 "nbformat": 4,
 "nbformat_minor": 0
}
